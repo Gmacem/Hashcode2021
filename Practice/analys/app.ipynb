{
 "cells": [
  {
   "cell_type": "code",
   "execution_count": 62,
   "metadata": {},
   "outputs": [],
   "source": [
    "import matplotlib.pyplot as plt\n",
    "from collections import Counter\n",
    "import pandas as pd"
   ]
  },
  {
   "cell_type": "code",
   "execution_count": 55,
   "metadata": {},
   "outputs": [],
   "source": [
    "class TestSet:\n",
    "    def __init__(self, filename):\n",
    "        with open(filename, \"r\") as f:\n",
    "            self.n, self.t2, self.t3, self.t4 = map(int, f.readline().split())\n",
    "            self.sizes = Counter()\n",
    "            self.ing = Counter()\n",
    "            for i in range(self.n):\n",
    "                size, *ingredients = f.readline().split()\n",
    "                size = int(size)\n",
    "                self.sizes[size] += 1\n",
    "                for ing in ingredients:\n",
    "                    self.ing[ing] += 1\n",
    "        self.sizes = pd.DataFrame.from_dict(self.sizes, orient='index').reset_index()\n",
    "        self.ing = pd.DataFrame.from_dict(self.ing, orient='index').reset_index()\n",
    "        self.sizes = self.sizes.rename(columns={\"index\": \"Size\", 0: \"Count\"}).sort_values(by=['Size'])\n",
    "        self.ing = self.ing.rename(columns={\"index\": \"Ing\", 0: \"Count\"}).sort_values(by=['Count'])"
   ]
  },
  {
   "cell_type": "code",
   "execution_count": 56,
   "metadata": {
    "scrolled": true
   },
   "outputs": [
    {
     "name": "stdout",
     "output_type": "stream",
     "text": [
      "   Size  Count\n",
      "2     1    175\n",
      "8     2    109\n",
      "3     3     80\n",
      "4     4     45\n",
      "0     5     27\n",
      "6     6     20\n",
      "5     7     11\n",
      "1     8     12\n",
      "7     9      7\n",
      "9    10     14\n",
      "                Ing  Count\n",
      "1            onions    135\n",
      "6         pineapple    135\n",
      "7        mozzarella    138\n",
      "4           cheddar    140\n",
      "3   emmental-cheese    142\n",
      "9               ham    149\n",
      "0         mushrooms    150\n",
      "2  neapolitan-crust    151\n",
      "5          tomatoes    152\n",
      "8             basil    152\n"
     ]
    }
   ],
   "source": [
    "b_testset = TestSet(\"../tests/b_little_bit_of_everything.in\")\n",
    "print(b_testset.sizes)\n",
    "print(b_testset.ing)"
   ]
  },
  {
   "cell_type": "code",
   "execution_count": 57,
   "metadata": {},
   "outputs": [
    {
     "name": "stdout",
     "output_type": "stream",
     "text": [
      "     Size  Count\n",
      "77      1    120\n",
      "32      2    118\n",
      "15      3     92\n",
      "84      4     86\n",
      "47      5    109\n",
      "..    ...    ...\n",
      "204   764      1\n",
      "460   774      1\n",
      "486   865      1\n",
      "442   965      1\n",
      "445  1010      1\n",
      "\n",
      "[511 rows x 2 columns]\n",
      "      Ing  Count\n",
      "8096  wkl     68\n",
      "9995  beo     69\n",
      "2328  pph     69\n",
      "7600  leb     69\n",
      "9999  swj     70\n",
      "...   ...    ...\n",
      "3735  fdk    137\n",
      "6809  pti    138\n",
      "8536  gff    139\n",
      "6388  nti    140\n",
      "3197  ylb    142\n",
      "\n",
      "[10000 rows x 2 columns]\n"
     ]
    }
   ],
   "source": [
    "c_testset = TestSet(\"../tests/c_many_ingredients.in\")\n",
    "print(c_testset.sizes)\n",
    "print(c_testset.ing)"
   ]
  },
  {
   "cell_type": "code",
   "execution_count": 58,
   "metadata": {
    "scrolled": true
   },
   "outputs": [
    {
     "name": "stdout",
     "output_type": "stream",
     "text": [
      "    Size  Count\n",
      "0      1  25107\n",
      "3      2  18719\n",
      "1      3  14142\n",
      "4      4  10477\n",
      "10     5   7834\n",
      "6      6   6074\n",
      "7      7   4343\n",
      "8      8   3303\n",
      "2      9   2476\n",
      "11    10   1872\n",
      "9     11   1371\n",
      "14    12   1077\n",
      "16    13    783\n",
      "13    14    582\n",
      "5     15    471\n",
      "15    16    346\n",
      "17    17    255\n",
      "20    18    217\n",
      "22    19    131\n",
      "19    20    100\n",
      "21    21     80\n",
      "18    22     55\n",
      "12    23     32\n",
      "25    24     27\n",
      "28    25     34\n",
      "26    26     24\n",
      "24    27     17\n",
      "29    28     12\n",
      "34    29     10\n",
      "32    30      4\n",
      "30    31      3\n",
      "27    32      7\n",
      "31    33      4\n",
      "23    34      3\n",
      "36    35      4\n",
      "33    36      2\n",
      "37    37      1\n",
      "35    38      1\n",
      "   Ing  Count\n",
      "38  ab   3832\n",
      "60  mc   3835\n",
      "82  pb   3858\n",
      "12  vd   3871\n",
      "6   kc   3881\n",
      "..  ..    ...\n",
      "39  rd   4107\n",
      "99  ac   4110\n",
      "15   u   4115\n",
      "83  bb   4122\n",
      "3   wb   4159\n",
      "\n",
      "[100 rows x 2 columns]\n"
     ]
    }
   ],
   "source": [
    "d_testset = TestSet(\"../tests/d_many_pizzas.in\")\n",
    "print(d_testset.sizes)\n",
    "print(d_testset.ing)"
   ]
  },
  {
   "cell_type": "code",
   "execution_count": 59,
   "metadata": {
    "scrolled": true
   },
   "outputs": [
    {
     "name": "stdout",
     "output_type": "stream",
     "text": [
      "    Size  Count\n",
      "0      1  25107\n",
      "3      2  18719\n",
      "1      3  14142\n",
      "4      4  10477\n",
      "10     5   7834\n",
      "6      6   6074\n",
      "7      7   4343\n",
      "8      8   3303\n",
      "2      9   2476\n",
      "11    10   1872\n",
      "9     11   1371\n",
      "14    12   1077\n",
      "16    13    783\n",
      "13    14    582\n",
      "5     15    471\n",
      "15    16    346\n",
      "17    17    255\n",
      "20    18    217\n",
      "22    19    131\n",
      "19    20    100\n",
      "21    21     80\n",
      "18    22     55\n",
      "12    23     32\n",
      "25    24     27\n",
      "28    25     34\n",
      "26    26     24\n",
      "24    27     17\n",
      "29    28     12\n",
      "34    29     10\n",
      "32    30      4\n",
      "30    31      3\n",
      "27    32      7\n",
      "31    33      4\n",
      "23    34      3\n",
      "36    35      4\n",
      "33    36      2\n",
      "37    37      1\n",
      "35    38      1\n",
      "   Ing  Count\n",
      "38  ab   3832\n",
      "60  mc   3835\n",
      "82  pb   3858\n",
      "12  vd   3871\n",
      "6   kc   3881\n",
      "..  ..    ...\n",
      "39  rd   4107\n",
      "99  ac   4110\n",
      "15   u   4115\n",
      "83  bb   4122\n",
      "3   wb   4159\n",
      "\n",
      "[100 rows x 2 columns]\n"
     ]
    }
   ],
   "source": [
    "e_testset = TestSet(\"../tests/e_many_teams.in\")\n",
    "print(e_testset.sizes)\n",
    "print(e_testset.ing)"
   ]
  },
  {
   "cell_type": "code",
   "execution_count": 66,
   "metadata": {},
   "outputs": [
    {
     "data": {
      "text/plain": [
       "(array([30.,  2.,  1.,  1.,  1.,  1.,  0.,  1.,  0.,  1.]),\n",
       " array([1.00000e+00, 2.51160e+03, 5.02220e+03, 7.53280e+03, 1.00434e+04,\n",
       "        1.25540e+04, 1.50646e+04, 1.75752e+04, 2.00858e+04, 2.25964e+04,\n",
       "        2.51070e+04]),\n",
       " <BarContainer object of 10 artists>)"
      ]
     },
     "execution_count": 66,
     "metadata": {},
     "output_type": "execute_result"
    },
    {
     "data": {
      "image/png": "[encoded data removed]",
      "text/plain": [
       "<Figure size 432x288 with 1 Axes>"
      ]
     },
     "metadata": {
      "needs_background": "light"
     },
     "output_type": "display_data"
    }
   ],
   "source": [
    "plt.hist(e_testset.sizes[\"Count\"])"
   ]
  },
  {
   "cell_type": "code",
   "execution_count": 67,
   "metadata": {},
   "outputs": [
    {
     "data": {
      "text/plain": [
       "(array([ 3.,  2.,  9., 13., 19., 24., 16.,  7.,  6.,  1.]),\n",
       " array([3832. , 3864.7, 3897.4, 3930.1, 3962.8, 3995.5, 4028.2, 4060.9,\n",
       "        4093.6, 4126.3, 4159. ]),\n",
       " <BarContainer object of 10 artists>)"
      ]
     },
     "execution_count": 67,
     "metadata": {},
     "output_type": "execute_result"
    },
    {
     "data": {
      "image/png": "[encoded data removed]",
      "text/plain": [
       "<Figure size 432x288 with 1 Axes>"
      ]
     },
     "metadata": {
      "needs_background": "light"
     },
     "output_type": "display_data"
    }
   ],
   "source": [
    "plt.hist(e_testset.ing[\"Count\"])"
   ]
  },
  {
   "cell_type": "code",
   "execution_count": null,
   "metadata": {},
   "outputs": [],
   "source": []
  }
 ],
 "metadata": {
  "kernelspec": {
   "display_name": "Python 3",
   "language": "python",
   "name": "python3"
  },
  "language_info": {
   "codemirror_mode": {
    "name": "ipython",
    "version": 3
   },
   "file_extension": ".py",
   "mimetype": "text/x-python",
   "name": "python",
   "nbconvert_exporter": "python",
   "pygments_lexer": "ipython3",
   "version": "3.8.5"
  }
 },
 "nbformat": 4,
 "nbformat_minor": 4
}
